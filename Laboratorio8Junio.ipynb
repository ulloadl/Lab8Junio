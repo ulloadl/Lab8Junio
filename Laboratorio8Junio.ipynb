{
  "nbformat": 4,
  "nbformat_minor": 0,
  "metadata": {
    "colab": {
      "name": "Laboratorio8Junio.ipynb",
      "provenance": [],
      "authorship_tag": "ABX9TyNv/t2H/Srurnw/HKsDycpZ",
      "include_colab_link": true
    },
    "kernelspec": {
      "name": "python3",
      "display_name": "Python 3"
    },
    "language_info": {
      "name": "python"
    }
  },
  "cells": [
    {
      "cell_type": "markdown",
      "metadata": {
        "id": "view-in-github",
        "colab_type": "text"
      },
      "source": [
        "<a href=\"https://colab.research.google.com/github/ulloadl/Lab8Junio/blob/main/Laboratorio8Junio.ipynb\" target=\"_parent\"><img src=\"https://colab.research.google.com/assets/colab-badge.svg\" alt=\"Open In Colab\"/></a>"
      ]
    },
    {
      "cell_type": "markdown",
      "source": [
        "***Laboratorio inicial de uso de Colab***"
      ],
      "metadata": {
        "id": "MqiQtwKeBfu1"
      }
    },
    {
      "cell_type": "markdown",
      "source": [
        "Daniel Leonardo Ulloa Rojas ✋"
      ],
      "metadata": {
        "id": "brN2wly1CBv8"
      }
    },
    {
      "cell_type": "markdown",
      "source": [
        "Paso 1. ✅"
      ],
      "metadata": {
        "id": "IwNJpWHXG3pW"
      }
    },
    {
      "cell_type": "code",
      "source": [
        "import pandas as pd\n",
        "\n",
        "from google.colab import auth\n",
        "auth.authenticate_user()\n",
        "\n",
        "import gspread\n",
        "from google.auth import default\n",
        "creds, _ = default()\n",
        "\n",
        "gc= gspread.authorize(creds)\n",
        "sh= gc.create('Daniel Ulloa Rojas') \n",
        "\n"
      ],
      "metadata": {
        "id": "2l7xJwt2CE8V"
      },
      "execution_count": 2,
      "outputs": []
    },
    {
      "cell_type": "markdown",
      "source": [
        "Paso 2. ✅"
      ],
      "metadata": {
        "id": "sil898_QG8aV"
      }
    },
    {
      "cell_type": "code",
      "source": [
        "worksheet = gc.open('Daniel Ulloa Rojas').sheet1\n",
        "\n",
        "cell_list = worksheet.range('A1:G14')\n",
        "\n",
        "import random\n",
        "for cell in cell_list:\n",
        "  cell.value = random.randint(0,1)\n",
        "\n",
        "worksheet.update_cells(cell_list)"
      ],
      "metadata": {
        "colab": {
          "base_uri": "https://localhost:8080/"
        },
        "id": "XByh3oQgEkN2",
        "outputId": "842fdc09-0e84-4370-f7ea-c1315f93094a"
      },
      "execution_count": 6,
      "outputs": [
        {
          "output_type": "execute_result",
          "data": {
            "text/plain": [
              "{'spreadsheetId': '1jyl0DAWP6PfgIDlsHlSk9po1TE9o9yC-GXDELrKBJUU',\n",
              " 'updatedCells': 98,\n",
              " 'updatedColumns': 7,\n",
              " 'updatedRange': \"'Hoja 1'!A1:G14\",\n",
              " 'updatedRows': 14}"
            ]
          },
          "metadata": {},
          "execution_count": 6
        }
      ]
    },
    {
      "cell_type": "markdown",
      "source": [
        "Paso 3. ✅"
      ],
      "metadata": {
        "id": "QgHV74h1Hb8l"
      }
    },
    {
      "cell_type": "code",
      "source": [
        "worksheet = gc.open('Daniel Ulloa Rojas').sheet1\n",
        "rows= worksheet.get_all_values()\n",
        "print(rows)"
      ],
      "metadata": {
        "colab": {
          "base_uri": "https://localhost:8080/"
        },
        "id": "_gS-EhHHHlyt",
        "outputId": "55b27d38-a30a-4a01-c23f-b495fa529441"
      },
      "execution_count": 9,
      "outputs": [
        {
          "output_type": "stream",
          "name": "stdout",
          "text": [
            "[['1', '1', '0', '0', '1', '0', '1'], ['0', '0', '1', '0', '0', '1', '1'], ['1', '0', '1', '1', '0', '1', '0'], ['1', '1', '1', '1', '0', '0', '1'], ['1', '1', '1', '1', '0', '0', '1'], ['0', '1', '0', '0', '1', '0', '0'], ['1', '1', '0', '0', '0', '1', '0'], ['1', '0', '1', '0', '0', '0', '0'], ['0', '1', '1', '1', '0', '1', '1'], ['1', '1', '0', '0', '0', '0', '1'], ['1', '0', '0', '1', '1', '0', '1'], ['1', '1', '0', '1', '1', '1', '0'], ['0', '1', '0', '0', '1', '0', '0'], ['1', '0', '1', '1', '0', '0', '0']]\n"
          ]
        }
      ]
    }
  ]
}